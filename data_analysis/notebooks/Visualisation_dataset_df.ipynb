{
 "cells": [
  {
   "cell_type": "code",
   "execution_count": 1,
   "metadata": {},
   "outputs": [],
   "source": [
    "import pandas as pd\n",
    "import numpy as np\n",
    "import matplotlib.pyplot as plt\n",
    "import seaborn as sns"
   ]
  },
  {
   "cell_type": "code",
   "execution_count": 2,
   "metadata": {},
   "outputs": [],
   "source": [
    "df = pd.read_csv(\"../data/dataframe_data/tables/table_principale.csv\")\n",
    "df_valeurs_angle = pd.read_csv(\"../data/dataframe_data/tables/table_valeurs_angle.csv\")\n",
    "df_valeurs_throttle =  pd.read_csv(\"../data/dataframe_data/tables/table_valeurs_throttle.csv\")"
   ]
  },
  {
   "cell_type": "code",
   "execution_count": 3,
   "metadata": {},
   "outputs": [
    {
     "data": {
      "text/html": [
       "<div>\n",
       "<style scoped>\n",
       "    .dataframe tbody tr th:only-of-type {\n",
       "        vertical-align: middle;\n",
       "    }\n",
       "\n",
       "    .dataframe tbody tr th {\n",
       "        vertical-align: top;\n",
       "    }\n",
       "\n",
       "    .dataframe thead th {\n",
       "        text-align: right;\n",
       "    }\n",
       "</style>\n",
       "<table border=\"1\" class=\"dataframe\">\n",
       "  <thead>\n",
       "    <tr style=\"text-align: right;\">\n",
       "      <th></th>\n",
       "      <th>timestamp_ms</th>\n",
       "      <th>cam/image_array</th>\n",
       "      <th>user/angle</th>\n",
       "      <th>user/mode</th>\n",
       "      <th>user/throttle</th>\n",
       "      <th>circuit</th>\n",
       "      <th>date</th>\n",
       "    </tr>\n",
       "  </thead>\n",
       "  <tbody>\n",
       "    <tr>\n",
       "      <th>0</th>\n",
       "      <td>1616688906607</td>\n",
       "      <td>0_cam_image_array_.jpg</td>\n",
       "      <td>0.0</td>\n",
       "      <td>user</td>\n",
       "      <td>0.0</td>\n",
       "      <td>waveshare</td>\n",
       "      <td>Thu Mar 25 17:15:06 2021</td>\n",
       "    </tr>\n",
       "    <tr>\n",
       "      <th>1</th>\n",
       "      <td>1616688906670</td>\n",
       "      <td>1_cam_image_array_.jpg</td>\n",
       "      <td>0.0</td>\n",
       "      <td>user</td>\n",
       "      <td>0.0</td>\n",
       "      <td>waveshare</td>\n",
       "      <td>Thu Mar 25 17:15:06 2021</td>\n",
       "    </tr>\n",
       "    <tr>\n",
       "      <th>2</th>\n",
       "      <td>1616688906738</td>\n",
       "      <td>2_cam_image_array_.jpg</td>\n",
       "      <td>0.0</td>\n",
       "      <td>user</td>\n",
       "      <td>0.3</td>\n",
       "      <td>waveshare</td>\n",
       "      <td>Thu Mar 25 17:15:06 2021</td>\n",
       "    </tr>\n",
       "    <tr>\n",
       "      <th>3</th>\n",
       "      <td>1616688906797</td>\n",
       "      <td>3_cam_image_array_.jpg</td>\n",
       "      <td>0.0</td>\n",
       "      <td>user</td>\n",
       "      <td>0.3</td>\n",
       "      <td>waveshare</td>\n",
       "      <td>Thu Mar 25 17:15:06 2021</td>\n",
       "    </tr>\n",
       "    <tr>\n",
       "      <th>4</th>\n",
       "      <td>1616688906861</td>\n",
       "      <td>4_cam_image_array_.jpg</td>\n",
       "      <td>0.0</td>\n",
       "      <td>user</td>\n",
       "      <td>0.3</td>\n",
       "      <td>waveshare</td>\n",
       "      <td>Thu Mar 25 17:15:06 2021</td>\n",
       "    </tr>\n",
       "  </tbody>\n",
       "</table>\n",
       "</div>"
      ],
      "text/plain": [
       "    timestamp_ms          cam/image_array  user/angle user/mode  \\\n",
       "0  1616688906607   0_cam_image_array_.jpg         0.0      user   \n",
       "1  1616688906670   1_cam_image_array_.jpg         0.0      user   \n",
       "2  1616688906738   2_cam_image_array_.jpg         0.0      user   \n",
       "3  1616688906797   3_cam_image_array_.jpg         0.0      user   \n",
       "4  1616688906861   4_cam_image_array_.jpg         0.0      user   \n",
       "\n",
       "   user/throttle    circuit                      date  \n",
       "0            0.0  waveshare  Thu Mar 25 17:15:06 2021  \n",
       "1            0.0  waveshare  Thu Mar 25 17:15:06 2021  \n",
       "2            0.3  waveshare  Thu Mar 25 17:15:06 2021  \n",
       "3            0.3  waveshare  Thu Mar 25 17:15:06 2021  \n",
       "4            0.3  waveshare  Thu Mar 25 17:15:06 2021  "
      ]
     },
     "execution_count": 3,
     "metadata": {},
     "output_type": "execute_result"
    }
   ],
   "source": [
    "df.head()"
   ]
  },
  {
   "cell_type": "code",
   "execution_count": 4,
   "metadata": {},
   "outputs": [
    {
     "data": {
      "text/html": [
       "<div>\n",
       "<style scoped>\n",
       "    .dataframe tbody tr th:only-of-type {\n",
       "        vertical-align: middle;\n",
       "    }\n",
       "\n",
       "    .dataframe tbody tr th {\n",
       "        vertical-align: top;\n",
       "    }\n",
       "\n",
       "    .dataframe thead th {\n",
       "        text-align: right;\n",
       "    }\n",
       "</style>\n",
       "<table border=\"1\" class=\"dataframe\">\n",
       "  <thead>\n",
       "    <tr style=\"text-align: right;\">\n",
       "      <th></th>\n",
       "      <th>angle</th>\n",
       "    </tr>\n",
       "  </thead>\n",
       "  <tbody>\n",
       "    <tr>\n",
       "      <th>0</th>\n",
       "      <td>-1.0</td>\n",
       "    </tr>\n",
       "    <tr>\n",
       "      <th>1</th>\n",
       "      <td>-0.9</td>\n",
       "    </tr>\n",
       "    <tr>\n",
       "      <th>2</th>\n",
       "      <td>-0.8</td>\n",
       "    </tr>\n",
       "    <tr>\n",
       "      <th>3</th>\n",
       "      <td>-0.7</td>\n",
       "    </tr>\n",
       "    <tr>\n",
       "      <th>4</th>\n",
       "      <td>-0.6</td>\n",
       "    </tr>\n",
       "    <tr>\n",
       "      <th>5</th>\n",
       "      <td>-0.5</td>\n",
       "    </tr>\n",
       "    <tr>\n",
       "      <th>6</th>\n",
       "      <td>-0.4</td>\n",
       "    </tr>\n",
       "    <tr>\n",
       "      <th>7</th>\n",
       "      <td>-0.3</td>\n",
       "    </tr>\n",
       "    <tr>\n",
       "      <th>8</th>\n",
       "      <td>-0.2</td>\n",
       "    </tr>\n",
       "    <tr>\n",
       "      <th>9</th>\n",
       "      <td>-0.1</td>\n",
       "    </tr>\n",
       "    <tr>\n",
       "      <th>10</th>\n",
       "      <td>0.0</td>\n",
       "    </tr>\n",
       "    <tr>\n",
       "      <th>11</th>\n",
       "      <td>0.1</td>\n",
       "    </tr>\n",
       "    <tr>\n",
       "      <th>12</th>\n",
       "      <td>0.2</td>\n",
       "    </tr>\n",
       "    <tr>\n",
       "      <th>13</th>\n",
       "      <td>0.3</td>\n",
       "    </tr>\n",
       "    <tr>\n",
       "      <th>14</th>\n",
       "      <td>0.4</td>\n",
       "    </tr>\n",
       "    <tr>\n",
       "      <th>15</th>\n",
       "      <td>0.5</td>\n",
       "    </tr>\n",
       "    <tr>\n",
       "      <th>16</th>\n",
       "      <td>0.6</td>\n",
       "    </tr>\n",
       "    <tr>\n",
       "      <th>17</th>\n",
       "      <td>0.7</td>\n",
       "    </tr>\n",
       "    <tr>\n",
       "      <th>18</th>\n",
       "      <td>0.8</td>\n",
       "    </tr>\n",
       "    <tr>\n",
       "      <th>19</th>\n",
       "      <td>0.9</td>\n",
       "    </tr>\n",
       "    <tr>\n",
       "      <th>20</th>\n",
       "      <td>1.0</td>\n",
       "    </tr>\n",
       "  </tbody>\n",
       "</table>\n",
       "</div>"
      ],
      "text/plain": [
       "    angle\n",
       "0    -1.0\n",
       "1    -0.9\n",
       "2    -0.8\n",
       "3    -0.7\n",
       "4    -0.6\n",
       "5    -0.5\n",
       "6    -0.4\n",
       "7    -0.3\n",
       "8    -0.2\n",
       "9    -0.1\n",
       "10    0.0\n",
       "11    0.1\n",
       "12    0.2\n",
       "13    0.3\n",
       "14    0.4\n",
       "15    0.5\n",
       "16    0.6\n",
       "17    0.7\n",
       "18    0.8\n",
       "19    0.9\n",
       "20    1.0"
      ]
     },
     "execution_count": 4,
     "metadata": {},
     "output_type": "execute_result"
    }
   ],
   "source": [
    "df_valeurs_angle"
   ]
  },
  {
   "cell_type": "code",
   "execution_count": 5,
   "metadata": {},
   "outputs": [
    {
     "name": "stdout",
     "output_type": "stream",
     "text": [
      "(5631, 7)\n"
     ]
    }
   ],
   "source": [
    "print(np.shape(df))"
   ]
  },
  {
   "cell_type": "code",
   "execution_count": 6,
   "metadata": {},
   "outputs": [
    {
     "data": {
      "text/plain": [
       "timestamp_ms       0\n",
       "cam/image_array    0\n",
       "user/angle         0\n",
       "user/mode          0\n",
       "user/throttle      0\n",
       "circuit            0\n",
       "date               0\n",
       "dtype: int64"
      ]
     },
     "execution_count": 6,
     "metadata": {},
     "output_type": "execute_result"
    }
   ],
   "source": [
    "#Pas de valeurs manquantes observées \n",
    "df.isnull().sum()"
   ]
  },
  {
   "cell_type": "code",
   "execution_count": 7,
   "metadata": {},
   "outputs": [],
   "source": [
    "df['date'] = pd.to_datetime(df['date'])"
   ]
  },
  {
   "cell_type": "code",
   "execution_count": 8,
   "metadata": {},
   "outputs": [
    {
     "data": {
      "text/plain": [
       "timestamp_ms                int64\n",
       "cam/image_array            object\n",
       "user/angle                float64\n",
       "user/mode                  object\n",
       "user/throttle             float64\n",
       "circuit                    object\n",
       "date               datetime64[ns]\n",
       "dtype: object"
      ]
     },
     "execution_count": 8,
     "metadata": {},
     "output_type": "execute_result"
    }
   ],
   "source": [
    "df.dtypes"
   ]
  },
  {
   "cell_type": "code",
   "execution_count": 9,
   "metadata": {},
   "outputs": [
    {
     "name": "stdout",
     "output_type": "stream",
     "text": [
      "timestamp_ms 5631\n",
      "cam/image_array 1808\n",
      "user/angle 20\n",
      "user/mode 1\n",
      "user/throttle 11\n",
      "circuit 4\n",
      "date 361\n"
     ]
    }
   ],
   "source": [
    "#On affiche le nombre de modalités différentes par variable\n",
    "for col in df.columns:\n",
    "    print(col, len(df[col].unique()))"
   ]
  },
  {
   "cell_type": "markdown",
   "metadata": {},
   "source": [
    "## 1. Etude unidimensionnelle\n",
    "### 1.1 Analyse des variables numériques"
   ]
  },
  {
   "cell_type": "code",
   "execution_count": 10,
   "metadata": {},
   "outputs": [
    {
     "data": {
      "text/plain": [
       "count    5631.000000\n",
       "mean       -0.028148\n",
       "std         0.417586\n",
       "min        -1.000000\n",
       "25%         0.000000\n",
       "50%         0.000000\n",
       "75%         0.000000\n",
       "max         1.000000\n",
       "Name: user/angle, dtype: float64"
      ]
     },
     "execution_count": 10,
     "metadata": {},
     "output_type": "execute_result"
    }
   ],
   "source": [
    "#On observe une distribution de l'angle allant de -1 à 1, avec une moyenne de -0.16 pour une médiane de 0. \n",
    "df[\"user/angle\"].describe()"
   ]
  },
  {
   "cell_type": "code",
   "execution_count": 11,
   "metadata": {},
   "outputs": [
    {
     "data": {
      "text/plain": [
       "count    5631.000000\n",
       "mean        0.492026\n",
       "std         0.208850\n",
       "min         0.000000\n",
       "25%         0.400000\n",
       "50%         0.500000\n",
       "75%         0.600000\n",
       "max         1.000000\n",
       "Name: user/throttle, dtype: float64"
      ]
     },
     "execution_count": 11,
     "metadata": {},
     "output_type": "execute_result"
    }
   ],
   "source": [
    "#On observe une distribution du throttle allant de 0 à 1, avec une moyenne de 0.45 pour une médiane de 0.4. \n",
    "df[\"user/throttle\"].describe()"
   ]
  },
  {
   "cell_type": "code",
   "execution_count": 12,
   "metadata": {},
   "outputs": [
    {
     "data": {
      "text/html": [
       "<div>\n",
       "<style scoped>\n",
       "    .dataframe tbody tr th:only-of-type {\n",
       "        vertical-align: middle;\n",
       "    }\n",
       "\n",
       "    .dataframe tbody tr th {\n",
       "        vertical-align: top;\n",
       "    }\n",
       "\n",
       "    .dataframe thead th {\n",
       "        text-align: right;\n",
       "    }\n",
       "</style>\n",
       "<table border=\"1\" class=\"dataframe\">\n",
       "  <thead>\n",
       "    <tr style=\"text-align: right;\">\n",
       "      <th></th>\n",
       "      <th>timestamp_ms</th>\n",
       "      <th>cam/image_array</th>\n",
       "      <th>user/angle</th>\n",
       "      <th>user/mode</th>\n",
       "      <th>user/throttle</th>\n",
       "      <th>circuit</th>\n",
       "      <th>date</th>\n",
       "      <th>categorie_angle</th>\n",
       "    </tr>\n",
       "  </thead>\n",
       "  <tbody>\n",
       "    <tr>\n",
       "      <th>0</th>\n",
       "      <td>1616688906607</td>\n",
       "      <td>0_cam_image_array_.jpg</td>\n",
       "      <td>0.0</td>\n",
       "      <td>user</td>\n",
       "      <td>0.0</td>\n",
       "      <td>waveshare</td>\n",
       "      <td>2021-03-25 17:15:06</td>\n",
       "      <td>(-0.1, 0.1]</td>\n",
       "    </tr>\n",
       "    <tr>\n",
       "      <th>1</th>\n",
       "      <td>1616688906670</td>\n",
       "      <td>1_cam_image_array_.jpg</td>\n",
       "      <td>0.0</td>\n",
       "      <td>user</td>\n",
       "      <td>0.0</td>\n",
       "      <td>waveshare</td>\n",
       "      <td>2021-03-25 17:15:06</td>\n",
       "      <td>(-0.1, 0.1]</td>\n",
       "    </tr>\n",
       "    <tr>\n",
       "      <th>2</th>\n",
       "      <td>1616688906738</td>\n",
       "      <td>2_cam_image_array_.jpg</td>\n",
       "      <td>0.0</td>\n",
       "      <td>user</td>\n",
       "      <td>0.3</td>\n",
       "      <td>waveshare</td>\n",
       "      <td>2021-03-25 17:15:06</td>\n",
       "      <td>(-0.1, 0.1]</td>\n",
       "    </tr>\n",
       "    <tr>\n",
       "      <th>3</th>\n",
       "      <td>1616688906797</td>\n",
       "      <td>3_cam_image_array_.jpg</td>\n",
       "      <td>0.0</td>\n",
       "      <td>user</td>\n",
       "      <td>0.3</td>\n",
       "      <td>waveshare</td>\n",
       "      <td>2021-03-25 17:15:06</td>\n",
       "      <td>(-0.1, 0.1]</td>\n",
       "    </tr>\n",
       "    <tr>\n",
       "      <th>4</th>\n",
       "      <td>1616688906861</td>\n",
       "      <td>4_cam_image_array_.jpg</td>\n",
       "      <td>0.0</td>\n",
       "      <td>user</td>\n",
       "      <td>0.3</td>\n",
       "      <td>waveshare</td>\n",
       "      <td>2021-03-25 17:15:06</td>\n",
       "      <td>(-0.1, 0.1]</td>\n",
       "    </tr>\n",
       "  </tbody>\n",
       "</table>\n",
       "</div>"
      ],
      "text/plain": [
       "    timestamp_ms          cam/image_array  user/angle user/mode  \\\n",
       "0  1616688906607   0_cam_image_array_.jpg         0.0      user   \n",
       "1  1616688906670   1_cam_image_array_.jpg         0.0      user   \n",
       "2  1616688906738   2_cam_image_array_.jpg         0.0      user   \n",
       "3  1616688906797   3_cam_image_array_.jpg         0.0      user   \n",
       "4  1616688906861   4_cam_image_array_.jpg         0.0      user   \n",
       "\n",
       "   user/throttle    circuit                date categorie_angle  \n",
       "0            0.0  waveshare 2021-03-25 17:15:06     (-0.1, 0.1]  \n",
       "1            0.0  waveshare 2021-03-25 17:15:06     (-0.1, 0.1]  \n",
       "2            0.3  waveshare 2021-03-25 17:15:06     (-0.1, 0.1]  \n",
       "3            0.3  waveshare 2021-03-25 17:15:06     (-0.1, 0.1]  \n",
       "4            0.3  waveshare 2021-03-25 17:15:06     (-0.1, 0.1]  "
      ]
     },
     "execution_count": 12,
     "metadata": {},
     "output_type": "execute_result"
    }
   ],
   "source": [
    "bins = [-1, -0.5, -0.1, 0.1, 0.5, 1]\n",
    "df['categorie_angle'] = pd.cut(df['user/angle'], bins)\n",
    "df.head()"
   ]
  },
  {
   "cell_type": "code",
   "execution_count": 13,
   "metadata": {},
   "outputs": [
    {
     "data": {
      "text/html": [
       "<div>\n",
       "<style scoped>\n",
       "    .dataframe tbody tr th:only-of-type {\n",
       "        vertical-align: middle;\n",
       "    }\n",
       "\n",
       "    .dataframe tbody tr th {\n",
       "        vertical-align: top;\n",
       "    }\n",
       "\n",
       "    .dataframe thead th {\n",
       "        text-align: right;\n",
       "    }\n",
       "</style>\n",
       "<table border=\"1\" class=\"dataframe\">\n",
       "  <thead>\n",
       "    <tr style=\"text-align: right;\">\n",
       "      <th></th>\n",
       "      <th>timestamp_ms</th>\n",
       "      <th>cam/image_array</th>\n",
       "      <th>user/angle</th>\n",
       "      <th>user/mode</th>\n",
       "      <th>user/throttle</th>\n",
       "      <th>circuit</th>\n",
       "      <th>date</th>\n",
       "      <th>categorie_angle</th>\n",
       "      <th>categorie_throttle</th>\n",
       "    </tr>\n",
       "  </thead>\n",
       "  <tbody>\n",
       "    <tr>\n",
       "      <th>0</th>\n",
       "      <td>1616688906607</td>\n",
       "      <td>0_cam_image_array_.jpg</td>\n",
       "      <td>0.0</td>\n",
       "      <td>user</td>\n",
       "      <td>0.0</td>\n",
       "      <td>waveshare</td>\n",
       "      <td>2021-03-25 17:15:06</td>\n",
       "      <td>(-0.1, 0.1]</td>\n",
       "      <td>(-0.1, 0.25]</td>\n",
       "    </tr>\n",
       "    <tr>\n",
       "      <th>1</th>\n",
       "      <td>1616688906670</td>\n",
       "      <td>1_cam_image_array_.jpg</td>\n",
       "      <td>0.0</td>\n",
       "      <td>user</td>\n",
       "      <td>0.0</td>\n",
       "      <td>waveshare</td>\n",
       "      <td>2021-03-25 17:15:06</td>\n",
       "      <td>(-0.1, 0.1]</td>\n",
       "      <td>(-0.1, 0.25]</td>\n",
       "    </tr>\n",
       "    <tr>\n",
       "      <th>2</th>\n",
       "      <td>1616688906738</td>\n",
       "      <td>2_cam_image_array_.jpg</td>\n",
       "      <td>0.0</td>\n",
       "      <td>user</td>\n",
       "      <td>0.3</td>\n",
       "      <td>waveshare</td>\n",
       "      <td>2021-03-25 17:15:06</td>\n",
       "      <td>(-0.1, 0.1]</td>\n",
       "      <td>(0.25, 0.5]</td>\n",
       "    </tr>\n",
       "    <tr>\n",
       "      <th>3</th>\n",
       "      <td>1616688906797</td>\n",
       "      <td>3_cam_image_array_.jpg</td>\n",
       "      <td>0.0</td>\n",
       "      <td>user</td>\n",
       "      <td>0.3</td>\n",
       "      <td>waveshare</td>\n",
       "      <td>2021-03-25 17:15:06</td>\n",
       "      <td>(-0.1, 0.1]</td>\n",
       "      <td>(0.25, 0.5]</td>\n",
       "    </tr>\n",
       "    <tr>\n",
       "      <th>4</th>\n",
       "      <td>1616688906861</td>\n",
       "      <td>4_cam_image_array_.jpg</td>\n",
       "      <td>0.0</td>\n",
       "      <td>user</td>\n",
       "      <td>0.3</td>\n",
       "      <td>waveshare</td>\n",
       "      <td>2021-03-25 17:15:06</td>\n",
       "      <td>(-0.1, 0.1]</td>\n",
       "      <td>(0.25, 0.5]</td>\n",
       "    </tr>\n",
       "  </tbody>\n",
       "</table>\n",
       "</div>"
      ],
      "text/plain": [
       "    timestamp_ms          cam/image_array  user/angle user/mode  \\\n",
       "0  1616688906607   0_cam_image_array_.jpg         0.0      user   \n",
       "1  1616688906670   1_cam_image_array_.jpg         0.0      user   \n",
       "2  1616688906738   2_cam_image_array_.jpg         0.0      user   \n",
       "3  1616688906797   3_cam_image_array_.jpg         0.0      user   \n",
       "4  1616688906861   4_cam_image_array_.jpg         0.0      user   \n",
       "\n",
       "   user/throttle    circuit                date categorie_angle  \\\n",
       "0            0.0  waveshare 2021-03-25 17:15:06     (-0.1, 0.1]   \n",
       "1            0.0  waveshare 2021-03-25 17:15:06     (-0.1, 0.1]   \n",
       "2            0.3  waveshare 2021-03-25 17:15:06     (-0.1, 0.1]   \n",
       "3            0.3  waveshare 2021-03-25 17:15:06     (-0.1, 0.1]   \n",
       "4            0.3  waveshare 2021-03-25 17:15:06     (-0.1, 0.1]   \n",
       "\n",
       "  categorie_throttle  \n",
       "0       (-0.1, 0.25]  \n",
       "1       (-0.1, 0.25]  \n",
       "2        (0.25, 0.5]  \n",
       "3        (0.25, 0.5]  \n",
       "4        (0.25, 0.5]  "
      ]
     },
     "execution_count": 13,
     "metadata": {},
     "output_type": "execute_result"
    }
   ],
   "source": [
    "bins = [-0.1, 0.25, 0.5, 0.75 ,1]\n",
    "df['categorie_throttle'] = pd.cut(df['user/throttle'], bins)\n",
    "df.head()"
   ]
  },
  {
   "cell_type": "code",
   "execution_count": 14,
   "metadata": {},
   "outputs": [
    {
     "data": {
      "image/png": "[encoded data removed]",
      "text/plain": [
       "<Figure size 432x288 with 1 Axes>"
      ]
     },
     "metadata": {
      "needs_background": "light"
     },
     "output_type": "display_data"
    }
   ],
   "source": [
    "#On peut aussi avoir la répartition du throttle sur un boxplot mais je trouve ça moins visuel.\n",
    "plt.boxplot(df[\"user/throttle\"])\n",
    "plt.show()"
   ]
  },
  {
   "cell_type": "code",
   "execution_count": 15,
   "metadata": {},
   "outputs": [
    {
     "data": {
      "image/png": "[encoded data removed]",
      "text/plain": [
       "<Figure size 936x288 with 2 Axes>"
      ]
     },
     "metadata": {
      "needs_background": "light"
     },
     "output_type": "display_data"
    }
   ],
   "source": [
    "fig, (ax1,ax2) = plt.subplots(1,2,figsize=(13,4))\n",
    "\n",
    "ax1.bar([str(i) for i in df[\"categorie_angle\"].value_counts().sort_index().index], df[\"categorie_angle\"].value_counts().sort_index().apply(lambda x: x/len(df)))\n",
    "\n",
    "ax1.set_xlabel(\"Catégorie d' angle\")\n",
    "ax1.set_ylabel(\"Nombre\")\n",
    "ax1.set_title(\"Répartition des valeurs de l'angle\")\n",
    "ax1.set_ylim(0,1)\n",
    "\n",
    "sns.violinplot(y = \"user/angle\", data = df)\n",
    "ax2.set_title(\"Répartition des valeurs de l'angle\")\n",
    "ax2.set_ylim(-1,1.5)\n",
    "plt.show()"
   ]
  },
  {
   "cell_type": "code",
   "execution_count": 16,
   "metadata": {},
   "outputs": [
    {
     "data": {
      "image/png": "[encoded data removed]",
      "text/plain": [
       "<Figure size 864x288 with 2 Axes>"
      ]
     },
     "metadata": {
      "needs_background": "light"
     },
     "output_type": "display_data"
    }
   ],
   "source": [
    "fig, (ax1,ax2) = plt.subplots(1,2,figsize=(12,4))\n",
    "\n",
    "ax1.bar([str(i) for i in df[\"categorie_throttle\"].value_counts().sort_index().index], df[\"categorie_throttle\"].value_counts().sort_index().apply(lambda x: x/len(df)))\n",
    "ax1.set_xlabel(\"Catégorie de throttle\")\n",
    "ax1.set_ylabel(\"Nombre\")\n",
    "ax1.set_title(\"Répartition des valeurs du throttle\")\n",
    "ax1.set_ylim(0,1)\n",
    "\n",
    "sns.violinplot(y = \"user/throttle\", data = df)\n",
    "ax2.set_title(\"Répartition des valeurs du throttle\")\n",
    "ax2.set_ylim(-0,1.2)\n",
    "plt.show()"
   ]
  },
  {
   "cell_type": "markdown",
   "metadata": {},
   "source": [
    "### 1.2 Analyse des variables catégorielles\n",
    "#### Répartition des circuits"
   ]
  },
  {
   "cell_type": "code",
   "execution_count": 17,
   "metadata": {},
   "outputs": [
    {
     "data": {
      "image/png": "[encoded data removed]",
      "text/plain": [
       "<Figure size 720x288 with 1 Axes>"
      ]
     },
     "metadata": {
      "needs_background": "light"
     },
     "output_type": "display_data"
    }
   ],
   "source": [
    "#Alternative via Seaborn\n",
    "fig, ax1 = plt.subplots(1,1,figsize=(10,4))\n",
    "\n",
    "ax1 = sns.countplot(x = \"circuit\", data = df)\n",
    "\n",
    "ax1.set_xlabel(\"Circuit d'entraînement sur simulateur\")\n",
    "ax1.set_ylabel(\"Nombre d'images'\")\n",
    "ax1.set_title(\"Répartition du nombre d'images prises par circuit\")\n",
    "ax1.set_ylim(0,5000)\n",
    "plt.show()"
   ]
  },
  {
   "cell_type": "markdown",
   "metadata": {},
   "source": [
    "## 2. Analyses bidimensionnelles \n",
    "#### 2.1.2 Scatterplot entre variables numériques"
   ]
  },
  {
   "cell_type": "code",
   "execution_count": 18,
   "metadata": {},
   "outputs": [
    {
     "data": {
      "text/plain": [
       "Index(['timestamp_ms', 'cam/image_array', 'user/angle', 'user/mode',\n",
       "       'user/throttle', 'circuit', 'date', 'categorie_angle',\n",
       "       'categorie_throttle'],\n",
       "      dtype='object')"
      ]
     },
     "execution_count": 18,
     "metadata": {},
     "output_type": "execute_result"
    }
   ],
   "source": [
    "df.columns"
   ]
  },
  {
   "cell_type": "code",
   "execution_count": 19,
   "metadata": {},
   "outputs": [
    {
     "data": {
      "image/png": "[encoded data removed]",
      "text/plain": [
       "<Figure size 864x432 with 1 Axes>"
      ]
     },
     "metadata": {
      "needs_background": "light"
     },
     "output_type": "display_data"
    }
   ],
   "source": [
    "# à revoir problème au ni\n",
    "fig, ax = plt.subplots(1,1, figsize = (12, 6))\n",
    "\n",
    "sns.boxplot(x='categorie_angle', y = \"user/throttle\", data=df, ax = ax)\n",
    "ax.set_ylim(0,1)\n",
    "ax.set_title(\"Répartition du throttle en fonction de l'angle sur les quatre circuits\")\n",
    "\n",
    "plt.show()"
   ]
  },
  {
   "cell_type": "markdown",
   "metadata": {},
   "source": [
    "#### 2.1.3 Autre relations entre variables explicatives"
   ]
  },
  {
   "cell_type": "code",
   "execution_count": 20,
   "metadata": {},
   "outputs": [
    {
     "data": {
      "image/png": "[encoded data removed]",
      "text/plain": [
       "<Figure size 864x432 with 1 Axes>"
      ]
     },
     "metadata": {
      "needs_background": "light"
     },
     "output_type": "display_data"
    }
   ],
   "source": [
    "fig, ax = plt.subplots(1,1, figsize = (12, 6))\n",
    "sns.countplot(x = 'categorie_angle', hue = 'circuit', data = df)\n",
    "ax.set_title(\"Répartition de la valeur de l'angle sur les circuits waveshare, warehouse, generated & desert\")\n",
    "plt.show()"
   ]
  },
  {
   "cell_type": "code",
   "execution_count": 21,
   "metadata": {},
   "outputs": [
    {
     "data": {
      "image/png": "[encoded data removed]",
      "text/plain": [
       "<Figure size 864x432 with 1 Axes>"
      ]
     },
     "metadata": {
      "needs_background": "light"
     },
     "output_type": "display_data"
    }
   ],
   "source": [
    "fig, ax = plt.subplots(1,1, figsize = (12, 6))\n",
    "sns.countplot(x = 'categorie_throttle', hue = 'circuit', data = df)\n",
    "ax.set_title(\"Répartition de la valeur du throttle sur les circuits waveshare, warehouse, generated & desert\")\n",
    "plt.show()"
   ]
  }
 ],
 "metadata": {
  "kernelspec": {
   "display_name": "Python 3",
   "language": "python",
   "name": "python3"
  },
  "language_info": {
   "codemirror_mode": {
    "name": "ipython",
    "version": 3
   },
   "file_extension": ".py",
   "mimetype": "text/x-python",
   "name": "python",
   "nbconvert_exporter": "python",
   "pygments_lexer": "ipython3",
   "version": "3.8.5"
  }
 },
 "nbformat": 4,
 "nbformat_minor": 4
}
